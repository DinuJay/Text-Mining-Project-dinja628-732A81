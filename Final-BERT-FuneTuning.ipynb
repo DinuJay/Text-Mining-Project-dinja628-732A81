{
 "cells": [
  {
   "cell_type": "code",
   "execution_count": null,
   "metadata": {},
   "outputs": [],
   "source": [
    "import pandas as pd\n",
    "import numpy as np\n",
    "import tensorflow as tf\n",
    "import tensorflow_hub as hub\n",
    "import tensorflow_text\n",
    "pathh = 'Data/tweets/PrelabelData.csv'\n",
    "df1 = pd.read_csv(pathh)\n",
    "df1 = df1.dropna()\n",
    "n = 500\n",
    "df = df1.iloc[:n]\n",
    "df_test = df1.iloc[n:600]\n",
    "df = df[['text','sentiment']]\n",
    "\n",
    "def model_func():\n",
    "  text = tf.keras.layers.Input(shape=(), dtype=tf.string, name='text')\n",
    "  preproc = hub.KerasLayer((\"https://tfhub.dev/tensorflow/bert_en_uncased_preprocess/3\"), name='preprocessing')\n",
    "  encoder = hub.KerasLayer((\"https://tfhub.dev/tensorflow/small_bert/bert_en_uncased_L-4_H-512_A-8/1\"), trainable=True, name='BERT_encoder')\n",
    "  to_output = encoder(preproc(text))\n",
    "  model_network = to_output['pooled_output']\n",
    "  model_network = tf.keras.layers.Dropout(0.1)(model_network)\n",
    "  model_network = tf.keras.layers.Dense(3, activation='softmax', name='classifier')(model_network)\n",
    "  return tf.keras.Model(text, model_network)\n",
    "the_model = model_func()\n"
   ]
  },
  {
   "cell_type": "code",
   "execution_count": null,
   "metadata": {},
   "outputs": [],
   "source": [
    "train_dir = 'Data/tweets/datatr/'\n",
    "AUTOTUNE = tf.data.AUTOTUNE\n",
    "batch_size = 32\n",
    "seed = 123\n",
    "\n",
    "train_data = tf.keras.utils.text_dataset_from_directory(\n",
    "    'Data/tweets/datatr/train/',\n",
    "    batch_size=batch_size,\n",
    "    validation_split=0.2,\n",
    "    subset='training',\n",
    "    seed=seed)\n",
    "class_names = train_data.class_names\n",
    "train_tuned = train_data.cache().prefetch(buffer_size=AUTOTUNE)\n",
    "\n",
    "val_data = tf.keras.utils.text_dataset_from_directory(\n",
    "    'Data/tweets/datatr/train',\n",
    "    batch_size=batch_size,\n",
    "    validation_split=0.2,\n",
    "    subset='validation',\n",
    "    seed=seed)\n",
    "val_tuned = val_data.cache().prefetch(buffer_size=AUTOTUNE)\n",
    "\n",
    "test_data = tf.keras.utils.text_dataset_from_directory(\n",
    "    'Data/tweets/datatr/train',\n",
    "    batch_size=batch_size)\n",
    "test_tuned = test_data.cache().prefetch(buffer_size=AUTOTUNE)\n",
    "\n",
    "loss = tf.keras.losses.SparseCategoricalCrossentropy(from_logits=True)\n",
    "metrics = tf.keras.metrics.SparseCategoricalAccuracy()\n",
    "epochs = 7\n",
    "\n",
    "\n",
    "init_lr = 3e-5\n",
    "optimizer = tf.keras.optimizers.Adam(learning_rate=init_lr)\n",
    "\n",
    "the_model.compile(optimizer=optimizer,\n",
    "                         loss=loss,\n",
    "                         metrics=metrics)\n",
    "\n",
    "history = the_model.fit(x=train_tuned,\n",
    "                               validation_data=test_tuned,\n",
    "                               epochs=epochs)\n"
   ]
  },
  {
   "cell_type": "code",
   "execution_count": null,
   "metadata": {},
   "outputs": [],
   "source": [
    "the_model.save('my_model2', include_optimizer=False)"
   ]
  }
 ],
 "metadata": {
  "kernelspec": {
   "display_name": "base",
   "language": "python",
   "name": "python3"
  },
  "language_info": {
   "codemirror_mode": {
    "name": "ipython",
    "version": 3
   },
   "file_extension": ".py",
   "mimetype": "text/x-python",
   "name": "python",
   "nbconvert_exporter": "python",
   "pygments_lexer": "ipython3",
   "version": "3.9.7 (default, Sep 16 2021, 16:59:28) [MSC v.1916 64 bit (AMD64)]"
  },
  "orig_nbformat": 4,
  "vscode": {
   "interpreter": {
    "hash": "a42d7d588f07bcd1231831f49487fe1b0ac510f544454ba91dee3d98e7dbd1e0"
   }
  }
 },
 "nbformat": 4,
 "nbformat_minor": 2
}
